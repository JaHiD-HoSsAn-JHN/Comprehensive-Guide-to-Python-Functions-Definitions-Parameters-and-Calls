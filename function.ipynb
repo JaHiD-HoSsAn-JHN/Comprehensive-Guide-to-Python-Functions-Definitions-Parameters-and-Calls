{
 "cells": [
  {
   "cell_type": "markdown",
   "metadata": {},
   "source": [
    "1. Basic Function Definition and Call"
   ]
  },
  {
   "cell_type": "code",
   "execution_count": 102,
   "metadata": {},
   "outputs": [
    {
     "name": "stdout",
     "output_type": "stream",
     "text": [
      "Hello, World!\n"
     ]
    }
   ],
   "source": [
    "# A function without parameters that performs a simple task.\n",
    "\n",
    "# Example 1: Function to greet\n",
    "def greet():\n",
    "    return \"Hello, World!\"\n",
    "\n",
    "print(greet())  \n",
    "# Explanation: The greet function takes no arguments and returns a simple greeting. It is called using greet().\n"
   ]
  },
  {
   "cell_type": "code",
   "execution_count": 103,
   "metadata": {},
   "outputs": [
    {
     "name": "stdout",
     "output_type": "stream",
     "text": [
      "Goodbye, see you soon!\n"
     ]
    }
   ],
   "source": [
    "# Example 2: Function to say goodbye\n",
    "def goodbye():\n",
    "    return \"Goodbye, see you soon!\"\n",
    "\n",
    "print(goodbye())  \n",
    "# Explanation: The goodbye function similarly takes no arguments and returns a farewell message.\n"
   ]
  },
  {
   "cell_type": "markdown",
   "metadata": {},
   "source": [
    "2. Function with Parameters"
   ]
  },
  {
   "cell_type": "code",
   "execution_count": 104,
   "metadata": {},
   "outputs": [
    {
     "name": "stdout",
     "output_type": "stream",
     "text": [
      "Hello, Alice!\n"
     ]
    }
   ],
   "source": [
    "\n",
    "# Functions with parameters allow you to pass data into the function.\n",
    "\n",
    "# Example 1: Function to greet a user by name\n",
    "def greet(name):\n",
    "    return f\"Hello, {name}!\"\n",
    "\n",
    "print(greet(\"Alice\"))  \n",
    "# Explanation: greet accepts a name parameter and returns a greeting that includes the provided name.\n"
   ]
  },
  {
   "cell_type": "code",
   "execution_count": 105,
   "metadata": {},
   "outputs": [
    {
     "name": "stdout",
     "output_type": "stream",
     "text": [
      "12\n"
     ]
    }
   ],
   "source": [
    "# Example 2: Function to add two numbers\n",
    "def add(x, y):\n",
    "    return x + y\n",
    "\n",
    "print(add(5, 7)) \n",
    "# Explanation: add takes two numbers x and y, adds them, and returns the result."
   ]
  },
  {
   "cell_type": "markdown",
   "metadata": {},
   "source": [
    " 3. Default Parameters"
   ]
  },
  {
   "cell_type": "code",
   "execution_count": 106,
   "metadata": {},
   "outputs": [
    {
     "name": "stdout",
     "output_type": "stream",
     "text": [
      "Hello, World!\n",
      "Hello, Bob!\n"
     ]
    }
   ],
   "source": [
    "\n",
    "# Functions can have default values for parameters, making them optional.\n",
    "\n",
    "# Example 1: Function to greet with a default name\n",
    "def greet(name=\"World\"):\n",
    "    return f\"Hello, {name}!\"\n",
    "\n",
    "print(greet())       \n",
    "print(greet(\"Bob\"))   \n",
    "# Explanation: Here, if no name is provided, \"World\" is used by default.\n",
    "\n"
   ]
  },
  {
   "cell_type": "code",
   "execution_count": 107,
   "metadata": {},
   "outputs": [
    {
     "name": "stdout",
     "output_type": "stream",
     "text": [
      "25\n",
      "125\n"
     ]
    }
   ],
   "source": [
    "# Example 2: Function to calculate power with a default exponent\n",
    "def power(base, exponent=2):\n",
    "    return base ** exponent\n",
    "\n",
    "print(power(5))     \n",
    "print(power(5, 3)) \n",
    "# Explanation: If no exponent is provided, it defaults to 2, making this a square function by default."
   ]
  },
  {
   "cell_type": "markdown",
   "metadata": {},
   "source": [
    "4. Positional Arguments"
   ]
  },
  {
   "cell_type": "code",
   "execution_count": 108,
   "metadata": {},
   "outputs": [
    {
     "name": "stdout",
     "output_type": "stream",
     "text": [
      "Alice is 30 years old.\n"
     ]
    }
   ],
   "source": [
    "\n",
    "# Positional arguments must be provided in the same order as the function parameters.\n",
    "\n",
    "# Example 1: Function with two positional arguments\n",
    "def display_info(name, age):\n",
    "    return f\"{name} is {age} years old.\"\n",
    "\n",
    "print(display_info(\"Alice\", 30))  \n",
    "# Explanation: The name and age arguments are matched to the parameters based on their order.\n",
    "\n"
   ]
  },
  {
   "cell_type": "code",
   "execution_count": 109,
   "metadata": {},
   "outputs": [
    {
     "name": "stdout",
     "output_type": "stream",
     "text": [
      "24\n"
     ]
    }
   ],
   "source": [
    "# Example 2: Function with three positional arguments\n",
    "def rectangle_area(length, width, height):\n",
    "    return length * width * height\n",
    "\n",
    "print(rectangle_area(2, 3, 4))  \n",
    "# Explanation: The function multiplies the length, width, and height arguments in the order they are provided."
   ]
  },
  {
   "cell_type": "markdown",
   "metadata": {},
   "source": [
    "5. Keyword Arguments"
   ]
  },
  {
   "cell_type": "code",
   "execution_count": 110,
   "metadata": {},
   "outputs": [
    {
     "name": "stdout",
     "output_type": "stream",
     "text": [
      "Bob is 25 years old.\n"
     ]
    }
   ],
   "source": [
    "\n",
    "# Keyword arguments are specified using the parameter name, making the order irrelevant.\n",
    "\n",
    "# Example 1: Function call using keyword arguments\n",
    "print(display_info(age=25, name=\"Bob\")) \n",
    "# Explanation: Here, age is specified first and name second, but it still works because they are identified by keyword.\n",
    "\n"
   ]
  },
  {
   "cell_type": "code",
   "execution_count": 111,
   "metadata": {},
   "outputs": [
    {
     "name": "stdout",
     "output_type": "stream",
     "text": [
      "24\n"
     ]
    }
   ],
   "source": [
    "# Example 2: Calculating area with keyword arguments\n",
    "print(rectangle_area(height=4, width=3, length=2)) \n",
    "# Explanation: The order of arguments doesn't matter when using keyword arguments, as long as the names match.\n"
   ]
  },
  {
   "cell_type": "markdown",
   "metadata": {},
   "source": [
    " 6. Arbitrary Arguments (*args)"
   ]
  },
  {
   "cell_type": "code",
   "execution_count": 112,
   "metadata": {},
   "outputs": [
    {
     "name": "stdout",
     "output_type": "stream",
     "text": [
      "10\n",
      "11\n"
     ]
    }
   ],
   "source": [
    "\n",
    "# *args allows a function to accept a variable number of positional arguments.\n",
    "\n",
    "# Example 1: Function to sum multiple numbers\n",
    "def sum_all(*args):\n",
    "    return sum(args)\n",
    "\n",
    "print(sum_all(1, 2, 3, 4)) \n",
    "print(sum_all(5, 6))        \n",
    "# Explanation: *args collects all extra arguments into a tuple, allowing sum_all to sum any number of inputs."
   ]
  },
  {
   "cell_type": "code",
   "execution_count": 113,
   "metadata": {},
   "outputs": [
    {
     "name": "stdout",
     "output_type": "stream",
     "text": [
      "Hello world\n",
      "Python is awesome\n"
     ]
    }
   ],
   "source": [
    "# Example 2: Function to concatenate strings\n",
    "def concatenate_strings(*args):\n",
    "    return \" \".join(args)\n",
    "\n",
    "print(concatenate_strings(\"Hello\", \"world\"))  \n",
    "print(concatenate_strings(\"Python\", \"is\", \"awesome\")) \n",
    "# Explanation: *args gathers the input strings into a tuple, which are then joined together into a single string."
   ]
  },
  {
   "cell_type": "markdown",
   "metadata": {},
   "source": [
    "7. Arbitrary Keyword Arguments (**kwargs)"
   ]
  },
  {
   "cell_type": "code",
   "execution_count": 114,
   "metadata": {},
   "outputs": [
    {
     "name": "stdout",
     "output_type": "stream",
     "text": [
      "name: Alice\n",
      "age: 30\n",
      "city: New York\n"
     ]
    }
   ],
   "source": [
    "\n",
    "# **kwargs allows a function to accept a variable number of keyword arguments.\n",
    "\n",
    "# Example 1: Display details using kwargs\n",
    "def display_details(**kwargs):\n",
    "    for key, value in kwargs.items():\n",
    "        print(f\"{key}: {value}\")\n",
    "\n",
    "display_details(name=\"Alice\", age=30, city=\"New York\")\n",
    "# Explanation: **kwargs collects extra keyword arguments into a dictionary and allows you to iterate through them.\n"
   ]
  },
  {
   "cell_type": "code",
   "execution_count": 115,
   "metadata": {},
   "outputs": [
    {
     "name": "stdout",
     "output_type": "stream",
     "text": [
      "{'username': 'johndoe', 'email': 'john@example.com'}\n"
     ]
    }
   ],
   "source": [
    "# Example 2: Function to build a user profile\n",
    "def build_profile(**kwargs):\n",
    "    return kwargs\n",
    "\n",
    "print(build_profile(username=\"Jahid Hossen\", email=\"jahidhssenn9098@gmail.com\"))\n",
    "# Explanation: The **kwargs dictionary holds all the extra information provided, allowing the creation of a user profile.\n"
   ]
  },
  {
   "cell_type": "markdown",
   "metadata": {},
   "source": [
    "8. Combining Positional, *args, and **kwargs"
   ]
  },
  {
   "cell_type": "code",
   "execution_count": 116,
   "metadata": {},
   "outputs": [
    {
     "name": "stdout",
     "output_type": "stream",
     "text": [
      "a: 1, b: 3\n",
      "args: (4, 5)\n",
      "kwargs: {'key1': 'value1', 'key2': 'value2'}\n"
     ]
    }
   ],
   "source": [
    "\n",
    "# You can use positional parameters, *args, and **kwargs together.\n",
    "\n",
    "# Example 1: Function to handle various inputs\n",
    "def example_func(a, b=2, *args, **kwargs):\n",
    "    print(f\"a: {a}, b: {b}\")\n",
    "    print(f\"args: {args}\")\n",
    "    print(f\"kwargs: {kwargs}\")\n",
    "\n",
    "example_func(1, 3, 4, 5, key1=\"value1\", key2=\"value2\")\n",
    "\n",
    "# Explanation: The first two values 1 and 3 go to a and b, 4 and 5 go into *args, and the remaining keyword arguments form **kwargs.\n",
    "\n"
   ]
  },
  {
   "cell_type": "code",
   "execution_count": 117,
   "metadata": {},
   "outputs": [
    {
     "name": "stdout",
     "output_type": "stream",
     "text": [
      "Main course: Burger\n",
      "Sides: ('Fries', 'Salad')\n",
      "Extras: {'drink': 'Cola', 'sauce': 'Ketchup'}\n"
     ]
    }
   ],
   "source": [
    "# Example 2: Function with required, optional, and variable inputs\n",
    "def order_food(main_course, *sides, **extras):\n",
    "    print(f\"Main course: {main_course}\")\n",
    "    print(f\"Sides: {sides}\")\n",
    "    print(f\"Extras: {extras}\")\n",
    "\n",
    "order_food(\"Burger\", \"Fries\", \"Salad\", drink=\"Cola\", sauce=\"Ketchup\")\n",
    "\n",
    "Sides: ('Fries', 'Salad')\n",
    "Extras: {'drink': 'Cola', 'sauce': 'Ketchup'}\n",
    "# Explanation: The first argument is assigned to main_course, the next to *sides, and any keyword arguments to **extras."
   ]
  },
  {
   "cell_type": "markdown",
   "metadata": {},
   "source": [
    "9. Lambda Functions"
   ]
  },
  {
   "cell_type": "code",
   "execution_count": 118,
   "metadata": {},
   "outputs": [
    {
     "name": "stdout",
     "output_type": "stream",
     "text": [
      "25\n"
     ]
    }
   ],
   "source": [
    "\n",
    "# Lambda functions are small anonymous functions used for short, simple operations.\n",
    "\n",
    "# Example 1: Lambda for squaring a number\n",
    "square = lambda x: x ** 2\n",
    "print(square(5))  # Output: 25\n",
    "# Explanation: A lambda function is defined to square a number. It is called by passing the value 5.\n"
   ]
  },
  {
   "cell_type": "code",
   "execution_count": 119,
   "metadata": {},
   "outputs": [
    {
     "name": "stdout",
     "output_type": "stream",
     "text": [
      "5\n"
     ]
    }
   ],
   "source": [
    "# Example 2: Lambda for adding two numbers\n",
    "add = lambda x, y: x + y\n",
    "print(add(2, 3))  # Output: 5\n",
    "# Explanation: This lambda function takes two arguments x and y and returns their sum."
   ]
  },
  {
   "cell_type": "markdown",
   "metadata": {},
   "source": [
    "10. Function as Arguments (Higher-Order Functions)"
   ]
  },
  {
   "cell_type": "code",
   "execution_count": 120,
   "metadata": {},
   "outputs": [
    {
     "name": "stdout",
     "output_type": "stream",
     "text": [
      "16\n"
     ]
    }
   ],
   "source": [
    "\n",
    "# Functions can be passed as arguments to other functions.\n",
    "\n",
    "\n",
    "# Example 1: Passing a function as an argument\n",
    "def apply_function(func, value):\n",
    "    return func(value)\n",
    "\n",
    "print(apply_function(lambda x: x ** 2, 4))  # Output: 16\n",
    "# Explanation: The apply_function accepts a function and a value, applying the function to the value.\n"
   ]
  },
  {
   "cell_type": "code",
   "execution_count": 121,
   "metadata": {},
   "outputs": [
    {
     "name": "stdout",
     "output_type": "stream",
     "text": [
      "10\n"
     ]
    }
   ],
   "source": [
    "# Example 2: Using built-in function with a higher-order function\n",
    "def multiply_by_two(x):\n",
    "    return x * 2\n",
    "\n",
    "print(apply_function(multiply_by_two, 5))  # Output: 10\n",
    "# Explanation: Here, multiply_by_two is passed as an argument to apply_function, which applies it to 5."
   ]
  }
 ],
 "metadata": {
  "kernelspec": {
   "display_name": "Python 3",
   "language": "python",
   "name": "python3"
  },
  "language_info": {
   "codemirror_mode": {
    "name": "ipython",
    "version": 3
   },
   "file_extension": ".py",
   "mimetype": "text/x-python",
   "name": "python",
   "nbconvert_exporter": "python",
   "pygments_lexer": "ipython3",
   "version": "3.12.7"
  }
 },
 "nbformat": 4,
 "nbformat_minor": 2
}
